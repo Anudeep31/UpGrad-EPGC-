{
  "cells": [
    {
      "cell_type": "markdown",
      "metadata": {
        "id": "view-in-github",
        "colab_type": "text"
      },
      "source": [
        "<a href=\"https://colab.research.google.com/github/Anudeep31/UpGrad-EPGC-/blob/main/Basics_of_Python_Coding_Demo_Without_Solution(solved).ipynb\" target=\"_parent\"><img src=\"https://colab.research.google.com/assets/colab-badge.svg\" alt=\"Open In Colab\"/></a>"
      ]
    },
    {
      "cell_type": "markdown",
      "metadata": {
        "id": "ZstrsgRYu7u_"
      },
      "source": [
        "# Session 1: Basics of Python"
      ]
    },
    {
      "cell_type": "markdown",
      "metadata": {
        "id": "82Pyd7UySXrK"
      },
      "source": [
        "# Problem Statement\n",
        "\n",
        "A software company is developing a new user management system that contains information about their:\n",
        "- `name` - The name of the user\n",
        "- `date of birth` - The date of birth of the user\n",
        "- `age` - The age of the user\n",
        "- `subscription status` - The subscription status is represented by a boolean value, where \"True\" indicates an active subscription and \"False\" indicates an inactive subscription.\n",
        "\n",
        "As a business analyst, your task is to use these details and extract useful information from them, using basic Python operations.\n",
        "\n",
        "---\n",
        "\n"
      ]
    },
    {
      "cell_type": "markdown",
      "metadata": {
        "id": "3UsLTZqd1bBS"
      },
      "source": [
        "The company wants to generate user IDs from the user's name, age, year of birth, and subscription status by using string formatting to generate the user IDs."
      ]
    },
    {
      "cell_type": "code",
      "execution_count": null,
      "metadata": {
        "id": "7RL0W3mm5i14"
      },
      "outputs": [],
      "source": [
        "# User details on name, year of birth and age\n",
        "name = 'Alice Kim'\n",
        "yob\t= 1965\n",
        "age\t= 58"
      ]
    },
    {
      "cell_type": "code",
      "execution_count": null,
      "metadata": {
        "id": "M8S-OyEoH80v",
        "colab": {
          "base_uri": "https://localhost:8080/"
        },
        "outputId": "3c56e17a-391f-4007-8402-0d76c5854e58"
      },
      "outputs": [
        {
          "output_type": "stream",
          "name": "stdout",
          "text": [
            "The user ID for user Alice Kim with the year 1965 and age 58 is ['Alice Kim196558'] \n"
          ]
        }
      ],
      "source": [
        "# Extract user id using string formatting - user's name + dob + age without any whitespaces\n",
        "user_id = [name+str(yob)+str(age)]\n",
        "print(\"The user ID for user {} with the year {} and age {} is {} \".format(name,yob,age,user_id))"
      ]
    },
    {
      "cell_type": "code",
      "execution_count": null,
      "metadata": {
        "id": "gyDTK9xmAl8K",
        "colab": {
          "base_uri": "https://localhost:8080/"
        },
        "outputId": "8c7a1d35-0712-489a-85a3-6143311797fb"
      },
      "outputs": [
        {
          "output_type": "stream",
          "name": "stdout",
          "text": [
            "Alice_Kim196558\n"
          ]
        }
      ],
      "source": [
        "# Remove space and add an underscore in the name and use that as the id\n",
        "user_id = name.replace(\" \",\"_\") + str(yob)+str(age)\n",
        "print(user_id)"
      ]
    },
    {
      "cell_type": "markdown",
      "metadata": {
        "id": "9a4SJLMO4n4V"
      },
      "source": [
        "The company needs to validate the length of user names to ensure none of the users' names are neither too long nor too short."
      ]
    },
    {
      "cell_type": "code",
      "execution_count": null,
      "metadata": {
        "id": "lE6cdI37mxWT",
        "colab": {
          "base_uri": "https://localhost:8080/"
        },
        "outputId": "3758a5c6-9269-4b93-85d3-02f98bbd06bb"
      },
      "outputs": [
        {
          "output_type": "stream",
          "name": "stdout",
          "text": [
            "9\n"
          ]
        }
      ],
      "source": [
        "# Find the length of the name\n",
        "l= len(name)\n",
        "print(l)"
      ]
    },
    {
      "cell_type": "code",
      "execution_count": null,
      "metadata": {
        "id": "PYZTQ_HzH-a-",
        "colab": {
          "base_uri": "https://localhost:8080/"
        },
        "outputId": "f69a835e-b5ca-4449-d3e9-1101287ca913"
      },
      "outputs": [
        {
          "output_type": "stream",
          "name": "stdout",
          "text": [
            "The user ID for user Alice Kim with the year 1965 and age 58 is AK196558 \n"
          ]
        }
      ],
      "source": [
        "## Extract fixed length user_ids using only the first letter of the first name and the last name.\n",
        "user_id = name.split(\" \")[0][0]+name.split(\" \")[1][0]+str(yob)+str(age)\n",
        "print(\"The user ID for user {} with the year {} and age {} is {} \".format(name,yob,age,user_id))"
      ]
    },
    {
      "cell_type": "code",
      "source": [
        "name.lower().split()\n"
      ],
      "metadata": {
        "colab": {
          "base_uri": "https://localhost:8080/"
        },
        "id": "VmdSXxRB-NWc",
        "outputId": "d50113ab-9bc8-4b1f-ad73-e2245cf4090d"
      },
      "execution_count": null,
      "outputs": [
        {
          "output_type": "execute_result",
          "data": {
            "text/plain": [
              "['alice', 'kim']"
            ]
          },
          "metadata": {},
          "execution_count": 40
        }
      ]
    },
    {
      "cell_type": "markdown",
      "metadata": {
        "id": "ff3yxIpX4OLE"
      },
      "source": [
        "The company needs to split user-provided full names into separate first and last name fields. The full name strings may contain leading or trailing whitespace, as well as mixed case text. The company wants to ensure that the first and last names are accurately extracted from the full name strings, while also handling any formatting inconsistencies."
      ]
    },
    {
      "cell_type": "code",
      "execution_count": null,
      "metadata": {
        "id": "m6TOmiUF44oX",
        "colab": {
          "base_uri": "https://localhost:8080/"
        },
        "outputId": "afd46aa6-5a05-4833-d08e-3b8e13bde56b"
      },
      "outputs": [
        {
          "output_type": "stream",
          "name": "stdout",
          "text": [
            "First Name: alice\n",
            "Last Name: kim\n"
          ]
        }
      ],
      "source": [
        "full_name = \"   Alice Kim  \"\n",
        "\n",
        "# Trim whitespace and lowercase text\n",
        "full_name = full_name.lower().lstrip(\" \").rstrip(\" \")\n",
        "\n",
        "# Split full name into first and last name\n",
        "first_name,last_name = full_name.split()\n",
        "print(\"First Name:\", first_name)\n",
        "print(\"Last Name:\", last_name)"
      ]
    },
    {
      "cell_type": "markdown",
      "metadata": {
        "id": "-CILyMsvZwA3"
      },
      "source": [
        "Write a Python program to extract the month value from the \"DOB\"."
      ]
    },
    {
      "cell_type": "code",
      "execution_count": null,
      "metadata": {
        "id": "iYj5r-WRqfv4",
        "colab": {
          "base_uri": "https://localhost:8080/"
        },
        "outputId": "32791cb5-c3db-4298-959e-6421a69b956f"
      },
      "outputs": [
        {
          "output_type": "stream",
          "name": "stdout",
          "text": [
            "Month: 05\n"
          ]
        }
      ],
      "source": [
        "# Slice string date to obtain month value\n",
        "date_string = \"23-05-1965\"\n",
        "\n",
        "# Use string slicing to extract the month value\n",
        "month = date_string[3:5]\n",
        "\n",
        "print(\"Month:\", month)"
      ]
    }
  ],
  "metadata": {
    "colab": {
      "provenance": [],
      "include_colab_link": true
    },
    "kernelspec": {
      "display_name": "Python 3",
      "name": "python3"
    },
    "language_info": {
      "name": "python"
    }
  },
  "nbformat": 4,
  "nbformat_minor": 0
}