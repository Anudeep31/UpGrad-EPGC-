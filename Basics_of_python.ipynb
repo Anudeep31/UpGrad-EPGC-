{
  "nbformat": 4,
  "nbformat_minor": 0,
  "metadata": {
    "colab": {
      "provenance": [],
      "include_colab_link": true
    },
    "kernelspec": {
      "name": "python3",
      "display_name": "Python 3"
    }
  },
  "cells": [
    {
      "cell_type": "markdown",
      "metadata": {
        "id": "view-in-github",
        "colab_type": "text"
      },
      "source": [
        "<a href=\"https://colab.research.google.com/github/Anudeep31/UpGrad-EPGC-/blob/main/Basics_of_python.ipynb\" target=\"_parent\"><img src=\"https://colab.research.google.com/assets/colab-badge.svg\" alt=\"Open In Colab\"/></a>"
      ]
    },
    {
      "cell_type": "markdown",
      "metadata": {
        "id": "e2CWWATVTFOQ"
      },
      "source": [
        "# Practice Exercise"
      ]
    },
    {
      "cell_type": "markdown",
      "metadata": {
        "id": "gxSUV29HVelr"
      },
      "source": [
        "Question 1: Let us start by printing the word \"Welcome to the practice exercise\" in python."
      ]
    },
    {
      "cell_type": "code",
      "metadata": {
        "id": "sn3vu-6dVsEP",
        "colab": {
          "base_uri": "https://localhost:8080/"
        },
        "outputId": "b2cab257-3240-484c-ae9b-10ff4411b6d2"
      },
      "source": [
        "# Print the statement:\n",
        "print(\"Welcome to the practice excercise\")"
      ],
      "execution_count": 1,
      "outputs": [
        {
          "output_type": "stream",
          "name": "stdout",
          "text": [
            "Welcome to the practice excercise\n"
          ]
        }
      ]
    },
    {
      "cell_type": "markdown",
      "metadata": {
        "id": "Ys8qEL-HTMA1"
      },
      "source": [
        "Question 2: Create a string variable and print the string."
      ]
    },
    {
      "cell_type": "code",
      "metadata": {
        "id": "ypmiTaqjSu_C",
        "colab": {
          "base_uri": "https://localhost:8080/"
        },
        "outputId": "885ec6c1-5550-4bf7-a4b6-a39bcb27a988"
      },
      "source": [
        "# Create a string variable:\n",
        "string = \"I'm Vengence\"\n",
        "# Print the string:\n",
        "print(string)"
      ],
      "execution_count": 2,
      "outputs": [
        {
          "output_type": "stream",
          "name": "stdout",
          "text": [
            "I'm Vengence\n"
          ]
        }
      ]
    },
    {
      "cell_type": "markdown",
      "metadata": {
        "id": "SCtZJrEjUyLV"
      },
      "source": [
        "Question 3: Create a string by taking user input and print the string."
      ]
    },
    {
      "cell_type": "code",
      "metadata": {
        "id": "kuNOPj11TU10",
        "colab": {
          "base_uri": "https://localhost:8080/"
        },
        "outputId": "b1755c9f-097a-49a9-bcaa-d8051ae8432f"
      },
      "source": [
        "# Create a string variable taking user input:\n",
        "string2 = input('enter the value: ')\n",
        "# Print the string:\n",
        "print(string2)"
      ],
      "execution_count": 5,
      "outputs": [
        {
          "output_type": "stream",
          "name": "stdout",
          "text": [
            "enter the value: Do you Bleed\n",
            "Do you Bleed\n"
          ]
        }
      ]
    },
    {
      "cell_type": "markdown",
      "metadata": {
        "id": "DImK3bXbVQmK"
      },
      "source": [
        "Question 4: Print the pattern given below:\n",
        "\n",
        "\n",
        "\n",
        "![image.png](data:image/png;base64,iVBORw0KGgoAAAANSUhEUgAAADIAAABFCAYAAAAIGLXIAAACvklEQVRoBe1abW7DIAzljJF6oSpXSY/SHWQ/egxPgA3GfAwxEO3kSVP4NLz3TGInNfBP/sw/wQEK5N2UVEVUkUUMqGstInbYrCoyTN2iiarIImKHzaoiPdS9HgcYY+D86hn9tzGLFHnBdTNwPC44PxmIVcKr8PxsINFJFEjkorO06IzQ6qoIMdF9VUWaVH2d7vlhnyH8f+XzZLEiTbhTOxXIVDonGFNFJpA41YQqMpXOCcZUkQkkTjWhikAShhxwfTOCvy84eHhyu+DFukORxtX6w8DfC4OK2PD8hCfa97l5rMtln3cD5k6jqdenw+f9BLMPCG0Gr45ZoQob4oAKIK7NArDKfgYQZJ6/SeHA3weI32jmOvwMCcatqx0PPDXvAsT5v9go8ypfdKDwDMmNy3o2ua9h8LB74w4EO/T1Je3NwZ8hPydNuCj5+kviNQykHwRAONglpFsVofs/f1bYMt2ZnCsx1luutxVIidnNbcOutXnf2fIKJKNkc4MqslmAbHlVJKNkc4MqslmAbPmqIj7rY2FG6aNmEqrExKoWGMag0H8AomDRyMAzsdv3VbgJJOQMGX4An7PHzZeGhDaeSEGeaDngFKeB+MqVzA0Ws8IgELuZThCA0W+y0XQuT4VLkbIF2iQVoP7jTGuwOtmxdMKFPwhwLlKNcGMuQjQmKQC6EbkdB0XjS23UR9emItGHWYhuZ2KYHoFW0t1MDVo22jCYcIUe6UoINKQIYWBaqAJJh4mNlnKIUpv0dzTqFCEFM1LQFSnXuV3wbHkH2uwEIvwcXSt5U1UAUvJ3kIzbjTgw7fdi5HopwbHWBwTljca8QtK1Yt0uIO4+tGZmCyBRiMbh1fWFG4XoZNUKEHQlklf6sTOQPgtSEO3N0RkLZ5DcrMMu23tSrABJxnxERYG8m0yqiCqyiAF1rUXEDpv9AT7GtDRI+0oLAAAAAElFTkSuQmCC)"
      ]
    },
    {
      "cell_type": "code",
      "metadata": {
        "id": "DkSe8TvcVPMK",
        "colab": {
          "base_uri": "https://localhost:8080/"
        },
        "outputId": "ba045af2-2891-4cb7-f984-52a1c1058201"
      },
      "source": [
        "# Print the pattern shown in the question above:\n",
        "print(\"  1\\n 234\\n56789\")"
      ],
      "execution_count": 15,
      "outputs": [
        {
          "output_type": "stream",
          "name": "stdout",
          "text": [
            "  1\n",
            " 234\n",
            "56789\n"
          ]
        }
      ]
    },
    {
      "cell_type": "markdown",
      "metadata": {
        "id": "wmEibYOCXoUV"
      },
      "source": [
        "Question 5: Print the '#' symbol 15 times without having to type it for 15 times."
      ]
    },
    {
      "cell_type": "code",
      "metadata": {
        "id": "ca4yCx9OXfyt",
        "colab": {
          "base_uri": "https://localhost:8080/"
        },
        "outputId": "92220431-f225-4c38-b131-70fbc68198cc"
      },
      "source": [
        "# Print the pattern shown in the question above:\n",
        "print(\"#\"*15)"
      ],
      "execution_count": 16,
      "outputs": [
        {
          "output_type": "stream",
          "name": "stdout",
          "text": [
            "###############\n"
          ]
        }
      ]
    },
    {
      "cell_type": "markdown",
      "metadata": {
        "id": "pCh5QAyGYdWe"
      },
      "source": [
        "Question 6: Take the user input to print the current date"
      ]
    },
    {
      "cell_type": "code",
      "metadata": {
        "id": "uO-kTgb7XoJZ",
        "colab": {
          "base_uri": "https://localhost:8080/"
        },
        "outputId": "a1e8aa83-ec5a-401e-8064-8af17fe1eb2f"
      },
      "source": [
        "# Take the user input into a string:\n",
        "Day = input(\"Enter day: \")\n",
        "month = input(\"Enter month: \")\n",
        "year = input(\"Enter year: \")\n",
        "Date = Day+\"-\"+month+\"-\"+year\n",
        "# Print the date:\n",
        "print(Date)"
      ],
      "execution_count": 18,
      "outputs": [
        {
          "output_type": "stream",
          "name": "stdout",
          "text": [
            "Enter day: 27\n",
            "Enter month: 06\n",
            "Enter year: 2024\n",
            "27-06-2024\n"
          ]
        }
      ]
    },
    {
      "cell_type": "markdown",
      "metadata": {
        "id": "WzkRCuNYZOnp"
      },
      "source": [
        "Question 7: Type cast the interger 1.8 into a string and print the result."
      ]
    },
    {
      "cell_type": "code",
      "metadata": {
        "id": "tv7dzZX2YdFH",
        "colab": {
          "base_uri": "https://localhost:8080/"
        },
        "outputId": "08d7811a-ac7a-4ef8-fa74-d6eb50e19b8f"
      },
      "source": [
        "# Store the interger as a varaible:\n",
        "a = int(1.8)\n",
        "# Typecast the integer:\n",
        "#a = str(a)\n",
        "# Print the result:\n",
        "print(type(a))"
      ],
      "execution_count": 25,
      "outputs": [
        {
          "output_type": "stream",
          "name": "stdout",
          "text": [
            "<class 'int'>\n"
          ]
        }
      ]
    },
    {
      "cell_type": "markdown",
      "metadata": {
        "id": "IP5LMF00bATM"
      },
      "source": [
        "Question 8: Find the product of two numbers input by the user."
      ]
    },
    {
      "cell_type": "code",
      "metadata": {
        "id": "_REzzqdwa3Gp",
        "colab": {
          "base_uri": "https://localhost:8080/"
        },
        "outputId": "dff2d1d0-573f-49c8-f5b4-230248151ea1"
      },
      "source": [
        "# Take input of the first number and store it in a variable:\n",
        "first = input('enter a value: ')\n",
        "# Take input of the second number and store it in a variable:\n",
        "second = input('enter a value: ')\n",
        "# You will need to typecast the input strings into integers\n",
        "first = int(first)\n",
        "second = int(second)\n",
        "# Calculate the product:\n",
        "product = first*second\n",
        "# Print the result:\n",
        "print(\"the product of {} and {} numbers is {}\".format(first, second, product))"
      ],
      "execution_count": 28,
      "outputs": [
        {
          "output_type": "stream",
          "name": "stdout",
          "text": [
            "enter a value: 21\n",
            "enter a value: 34\n",
            "the product of 21 and 34 numbers is 714\n"
          ]
        }
      ]
    },
    {
      "cell_type": "markdown",
      "metadata": {
        "id": "041d-OjCcXt9"
      },
      "source": [
        "Question 9: Calculate the remainder of the number 6 when divided by the number 4."
      ]
    },
    {
      "cell_type": "code",
      "metadata": {
        "id": "rLigN9eFb1JT",
        "colab": {
          "base_uri": "https://localhost:8080/"
        },
        "outputId": "2ff9cd03-9645-4f89-e473-c71c18e750ba"
      },
      "source": [
        "# Find the modulus and print the result:\n",
        "modulus= 6%4\n",
        "print(\"the remainder of the number 6 when divided by the number 4 is\", modulus)"
      ],
      "execution_count": 31,
      "outputs": [
        {
          "output_type": "stream",
          "name": "stdout",
          "text": [
            "the remainder of the number 6 when divided by the number 4 is 2\n"
          ]
        }
      ]
    },
    {
      "cell_type": "markdown",
      "metadata": {
        "id": "xyFL6iLUczpm"
      },
      "source": [
        "Question 10: Solve the error in code below and print the correct result."
      ]
    },
    {
      "cell_type": "code",
      "metadata": {
        "id": "DX_mc1H8cyRC",
        "colab": {
          "base_uri": "https://localhost:8080/"
        },
        "outputId": "5399ee8f-6995-4801-9d5c-d079f6e37121"
      },
      "source": [
        "# Given:\n",
        "print('I can't study any longer')\n",
        "\n",
        "# Corrected solution:\n",
        "print(\"I can't study any longer\")"
      ],
      "execution_count": 32,
      "outputs": [
        {
          "output_type": "stream",
          "name": "stdout",
          "text": [
            "I can't study any longer\n"
          ]
        }
      ]
    },
    {
      "cell_type": "markdown",
      "metadata": {
        "id": "MsVRoye5daZG"
      },
      "source": [
        "Question 11: Print the following statement using only 1 print statement:\n",
        "\n",
        "Hello\n",
        "\n",
        "Good Morning"
      ]
    },
    {
      "cell_type": "code",
      "metadata": {
        "id": "PqnV_g10dOzS",
        "colab": {
          "base_uri": "https://localhost:8080/"
        },
        "outputId": "a4f6b1ed-0c52-41bb-e867-48951b68f755"
      },
      "source": [
        "# Print the required statement:\\\n",
        "print(\"Hello \\nGood morning\")"
      ],
      "execution_count": 34,
      "outputs": [
        {
          "output_type": "stream",
          "name": "stdout",
          "text": [
            "Hello \n",
            "Good morning\n"
          ]
        }
      ]
    },
    {
      "cell_type": "markdown",
      "metadata": {
        "id": "r8xXSTHRd5RT"
      },
      "source": [
        "Question 12: Concatenate the given strings and print the result:\n"
      ]
    },
    {
      "cell_type": "code",
      "metadata": {
        "id": "PuwSE5uidy24",
        "colab": {
          "base_uri": "https://localhost:8080/"
        },
        "outputId": "379ada4e-dc30-4d8a-dac3-a80e337beee4"
      },
      "source": [
        "# Given below are the two strings:\n",
        "string1= 'Welcome to upgrad'\n",
        "string2= 'coding practice session.'\n",
        "\n",
        "# Concatenate and print the result:\n",
        "concat= string1+\" \"+string2\n",
        "print(concat)"
      ],
      "execution_count": 37,
      "outputs": [
        {
          "output_type": "stream",
          "name": "stdout",
          "text": [
            "Welcome to upgrad coding practice session.\n"
          ]
        }
      ]
    },
    {
      "cell_type": "markdown",
      "metadata": {
        "id": "QpkUZwCsefdt"
      },
      "source": [
        "Question 13: Find the length of string given below and print the result.\n"
      ]
    },
    {
      "cell_type": "code",
      "metadata": {
        "id": "24Am9RaseEXP",
        "colab": {
          "base_uri": "https://localhost:8080/"
        },
        "outputId": "ed3f212a-f6f8-4e0e-ffa8-70e2edc931fd"
      },
      "source": [
        "# Given below is the string:\n",
        "print(string)\n",
        "# Calculate and print the length:\n",
        "print(\"the length of the string is {}\".format(len(string)))"
      ],
      "execution_count": 40,
      "outputs": [
        {
          "output_type": "stream",
          "name": "stdout",
          "text": [
            "I'm Vengence\n",
            "the length of the string is 12\n"
          ]
        }
      ]
    },
    {
      "cell_type": "markdown",
      "metadata": {
        "id": "KoVEaa4QfMb_"
      },
      "source": [
        "Question 14: Create a string of length=10. Obtain the fifth and seventh character of the string. Concatenate the characters and form a new string. Print the new string."
      ]
    },
    {
      "cell_type": "code",
      "metadata": {
        "id": "U-356eSce6UM",
        "colab": {
          "base_uri": "https://localhost:8080/"
        },
        "outputId": "b25413f1-0e4b-4fe8-bb19-d8a569dd8a19"
      },
      "source": [
        "# Create a string of length 10:\n",
        "string10 = \"asdfghjklp\"\n",
        "# You can verify the length:\n",
        "print(\"lenght of the {} is {}\".format(string10, len(string10)))\n",
        "# Obtain the fifth letter and store it into a new string:\n",
        "s1= string10[4]\n",
        "# Obtain the seventh letter and store it into a new string:\n",
        "s2= string10[6]\n",
        "# Concatenate the two strings:\n",
        "new_s= s1+s2\n",
        "# Print the result:\n",
        "print(\"the new string is: \",new_s)"
      ],
      "execution_count": 45,
      "outputs": [
        {
          "output_type": "stream",
          "name": "stdout",
          "text": [
            "lenght of the asdfghjklp is 10\n",
            "the new string is:  gj\n"
          ]
        }
      ]
    },
    {
      "cell_type": "markdown",
      "metadata": {
        "id": "-9wQ6PQtzNi3"
      },
      "source": [
        "Question 15: Given below is a string. Perform the following operations and print the results:\n",
        "1. Remove the extra spaces from the string and print the new string.\n",
        "2. Find the length of new string\n",
        "3. Remove the last 5 characters of the new string\n",
        "4. Find the 15th character of the new string\n",
        "5. Compute the result of concatenation of the first and last letter of the new string.\n"
      ]
    },
    {
      "cell_type": "code",
      "metadata": {
        "id": "T9GOWY_JyErD",
        "colab": {
          "base_uri": "https://localhost:8080/"
        },
        "outputId": "3552dd75-5e86-4565-e04f-a8ae27b7fb33"
      },
      "source": [
        "from ast import LShift\n",
        "# Given below is the string:\n",
        "line= '     I hope you enjoyed this practice session'\n",
        "# Removing extra spaces:\n",
        "new_line= line.lstrip()\n",
        "# Print the result:\n",
        "print(new_line)\n",
        "# Calculate the length:\n",
        "print(\"the length of given line is {}\",len(new_line))\n",
        "# Slice the string to remove the last 5 characters:\n",
        "sliced_line= new_line[35:]\n",
        "# Print the result:\n",
        "print(sliced_line)\n",
        "# Print the 15th character of the string:\n",
        "print(\"the 15th character of the string is \",new_line[14])\n",
        "# Print the concatenation of first and last character of resulting string:\n",
        "print(new_line[0]+new_line[39])"
      ],
      "execution_count": 63,
      "outputs": [
        {
          "output_type": "stream",
          "name": "stdout",
          "text": [
            "I hope you enjoyed this practice session\n",
            "the length of given line is {} 40\n",
            "ssion\n",
            "the 15th character of the string is  o\n",
            "In\n"
          ]
        }
      ]
    }
  ]
}